{
 "cells": [
  {
   "cell_type": "code",
   "execution_count": 1,
   "metadata": {},
   "outputs": [],
   "source": [
    "from fmanager import FunMan"
   ]
  },
  {
   "cell_type": "markdown",
   "metadata": {},
   "source": [
    "### If you feel function cells are too annoying, you can use a temp file to keep your updates"
   ]
  },
  {
   "cell_type": "code",
   "execution_count": 2,
   "metadata": {},
   "outputs": [],
   "source": [
    "FM = FunMan(fkeep=\"./temp.py\",fback=\"./backup.json\")"
   ]
  },
  {
   "cell_type": "code",
   "execution_count": 3,
   "metadata": {},
   "outputs": [
    {
     "name": "stdout",
     "output_type": "stream",
     "text": [
      "\n"
     ]
    }
   ],
   "source": [
    "# currently temp file is empty\n",
    "with open(\"./temp.py\",\"r\") as f: \n",
    "    print(f.read())"
   ]
  },
  {
   "cell_type": "code",
   "execution_count": 4,
   "metadata": {},
   "outputs": [],
   "source": [
    "### Define a function and add it to file for backup\n",
    "def fun1(x):\n",
    "    print(\"x=\",x)\n",
    "    \n",
    "FM.addfun(fun1)"
   ]
  },
  {
   "cell_type": "code",
   "execution_count": 5,
   "metadata": {},
   "outputs": [
    {
     "name": "stdout",
     "output_type": "stream",
     "text": [
      "def fun1(x):\n",
      "    print(\"x=\",x)\n",
      "\n",
      "\n"
     ]
    }
   ],
   "source": [
    "## Now you have a function in temp file\n",
    "with open(\"./temp.py\",\"r\") as f: \n",
    "    print(f.read())"
   ]
  },
  {
   "cell_type": "code",
   "execution_count": 6,
   "metadata": {},
   "outputs": [],
   "source": [
    "### Update your function and keep the updates\n",
    "def fun1(x):\n",
    "    print(\"updated x=\",x)\n",
    "    \n",
    "FM.updatefun(fun1)"
   ]
  },
  {
   "cell_type": "code",
   "execution_count": 7,
   "metadata": {
    "scrolled": true
   },
   "outputs": [
    {
     "name": "stdout",
     "output_type": "stream",
     "text": [
      "def fun1(x):\n",
      "    print(\"updated x=\",x)\n",
      "\n",
      "\n"
     ]
    }
   ],
   "source": [
    "## Now you have an updated function in temp file\n",
    "with open(\"./temp.py\",\"r\") as f: \n",
    "    print(f.read())"
   ]
  },
  {
   "cell_type": "code",
   "execution_count": 8,
   "metadata": {},
   "outputs": [],
   "source": [
    "### Many functions in the notebook are annoying, so\n",
    "### you can delete all function cells but load from importing or FunMan.fun()"
   ]
  },
  {
   "cell_type": "code",
   "execution_count": 9,
   "metadata": {},
   "outputs": [
    {
     "name": "stdout",
     "output_type": "stream",
     "text": [
      "('updated x=', 2)\n"
     ]
    }
   ],
   "source": [
    "f1 = FM.fun(\"fun1\")\n",
    "f1(2)"
   ]
  },
  {
   "cell_type": "code",
   "execution_count": 10,
   "metadata": {},
   "outputs": [
    {
     "name": "stdout",
     "output_type": "stream",
     "text": [
      "def fun1(x):\n",
      "    print(\"updated x=\",x)\n",
      "\n"
     ]
    }
   ],
   "source": [
    "### If you forget you function, you can display it\n",
    "print(FM.showfun(\"fun1\"))"
   ]
  },
  {
   "cell_type": "markdown",
   "metadata": {},
   "source": [
    "### Other features:"
   ]
  },
  {
   "cell_type": "code",
   "execution_count": 11,
   "metadata": {},
   "outputs": [],
   "source": [
    "# 1. Save lines or comments\n",
    "FM.addline(\"import numpy as np\", startpos=0)\n",
    "\n",
    "# 2. Add new functions after another function \n",
    "def fun2():\n",
    "    return 2\n",
    "def fun3():\n",
    "    return 3 \n",
    "\n",
    "FM.addfun(fun3)\n",
    "FM.addfun(fun2,after=\"fun1\")"
   ]
  },
  {
   "cell_type": "code",
   "execution_count": 12,
   "metadata": {},
   "outputs": [
    {
     "name": "stdout",
     "output_type": "stream",
     "text": [
      "import numpy as np\n",
      "def fun1(x):\n",
      "    print(\"updated x=\",x)\n",
      "def fun2():\n",
      "    return 2\n",
      "\n",
      "def fun3():\n",
      "    return 3 \n",
      "\n",
      "\n"
     ]
    }
   ],
   "source": [
    "## Display the current file\n",
    "with open(\"./temp.py\",\"r\") as f: \n",
    "    print(f.read())"
   ]
  },
  {
   "cell_type": "code",
   "execution_count": 13,
   "metadata": {},
   "outputs": [],
   "source": [
    "# 3. Delete a function\n",
    "FM.delfun(\"fun2\")"
   ]
  },
  {
   "cell_type": "code",
   "execution_count": 14,
   "metadata": {},
   "outputs": [
    {
     "name": "stdout",
     "output_type": "stream",
     "text": [
      "import numpy as np\n",
      "def fun1(x):\n",
      "    print(\"updated x=\",x)\n",
      "\n",
      "def fun3():\n",
      "    return 3 \n",
      "\n",
      "\n"
     ]
    }
   ],
   "source": [
    "## The function has been deleted\n",
    "with open(\"./temp.py\",\"r\") as f: \n",
    "    print(f.read())"
   ]
  }
 ],
 "metadata": {
  "kernelspec": {
   "display_name": "Python 2",
   "language": "python",
   "name": "python2"
  },
  "language_info": {
   "codemirror_mode": {
    "name": "ipython",
    "version": 2
   },
   "file_extension": ".py",
   "mimetype": "text/x-python",
   "name": "python",
   "nbconvert_exporter": "python",
   "pygments_lexer": "ipython2",
   "version": "2.7.15"
  }
 },
 "nbformat": 4,
 "nbformat_minor": 2
}
